{
 "cells": [
  {
   "cell_type": "code",
   "execution_count": 1,
   "id": "70ab04b8",
   "metadata": {},
   "outputs": [],
   "source": [
    "import sympy as sym\n",
    "import numpy as np\n",
    "sym.init_printing()\n",
    "from IPython.display import display,Math\n",
    "from sympy.abc import x,y\n",
    "import math\n",
    "from math import gcd\n",
    "x,y = sym.symbols('x,y')\n",
    "import matplotlib.pyplot as plt\n",
    "import sympy.plotting.plot as symplot\n",
    "x,a = sym.symbols('x,a')\n",
    "from matplotlib.patches import Polygon\n",
    "from matplotlib import pyplot as plt\n",
    "import cmath as cm\n",
    "import scipy as sp\n",
    "from scipy.signal import find_peaks"
   ]
  },
  {
   "cell_type": "code",
   "execution_count": 9,
   "id": "dea850d7",
   "metadata": {},
   "outputs": [],
   "source": [
    "def angle_convert_plot():\n",
    "    \n",
    "    # get the inputs from the user\n",
    "    angle = input('What angle to convert?')\n",
    "    unit = input('Which unit did you input (radian or degree)?')\n",
    "    \n",
    "    print(angle,unit)"
   ]
  },
  {
   "cell_type": "code",
   "execution_count": 10,
   "id": "1c0434ef",
   "metadata": {},
   "outputs": [
    {
     "name": "stdout",
     "output_type": "stream",
     "text": [
      "What angle to convert?45\n",
      "Which unit did you input (radian or degree)?degree\n",
      "45 degree\n"
     ]
    }
   ],
   "source": [
    "angle_convert_plot()"
   ]
  },
  {
   "cell_type": "code",
   "execution_count": 11,
   "id": "37161dda",
   "metadata": {},
   "outputs": [],
   "source": [
    "def angle_convert_plot():\n",
    "    \n",
    "    # get the inputs from the user\n",
    "    angle = eval(input('What angle to convert?'))\n",
    "    unit = input('Which unit did you input (radian or degree)?')\n",
    "    \n",
    "    print(angle,unit)"
   ]
  },
  {
   "cell_type": "code",
   "execution_count": 14,
   "id": "082b51cf",
   "metadata": {},
   "outputs": [
    {
     "name": "stdout",
     "output_type": "stream",
     "text": [
      "What angle to convert?np.pi\n",
      "Which unit did you input (radian or degree)?radians\n",
      "3.141592653589793 radians\n"
     ]
    }
   ],
   "source": [
    "angle_convert_plot()"
   ]
  },
  {
   "cell_type": "code",
   "execution_count": 17,
   "id": "4610909d",
   "metadata": {},
   "outputs": [],
   "source": [
    "def angle_convert_plot():\n",
    "    \n",
    "    # get the inputs from the user\n",
    "    angle = eval(input('What angle to convert?'))\n",
    "    unit = input('Which unit did you input (radian or degree)?')\n",
    "    \n",
    "    if unit[0].lower()=='r':\n",
    "        rad = angle\n",
    "        deg = np.rad2deg(angle)\n",
    "    elif unit[0].lower()=='d':\n",
    "        deg = angle\n",
    "        rad = np.deg2rad(angle)\n",
    "    \n",
    "    print(deg,rad)"
   ]
  },
  {
   "cell_type": "code",
   "execution_count": 18,
   "id": "8c297cc8",
   "metadata": {},
   "outputs": [
    {
     "name": "stdout",
     "output_type": "stream",
     "text": [
      "What angle to convert?43\n",
      "Which unit did you input (radian or degree)?DE\n",
      "43 0.7504915783575618\n"
     ]
    }
   ],
   "source": [
    "angle_convert_plot()"
   ]
  },
  {
   "cell_type": "code",
   "execution_count": 4,
   "id": "8cd33e50",
   "metadata": {},
   "outputs": [],
   "source": [
    "def angle_convert_plot():\n",
    "    \n",
    "    # get the inputs from the user\n",
    "    angle = eval(input('What angle to convert?'))\n",
    "    unit = input('Which unit did you input(radian or degree)?')\n",
    "    \n",
    "    if unit[0].lower()=='r':\n",
    "        rad = angle\n",
    "        deg = np.rad2deg(angle)\n",
    "    elif unit[0].lower()=='d':\n",
    "        deg = angle\n",
    "        rad = np.deg2rad(angle)\n",
    "    else:\n",
    "        raise ValueError('Unknown unit!')\n",
    "        \n",
    "    # make the graph\n",
    "    plt.plot([0,1],[0,0],'r',linewidth=2)\n",
    "    plt.plot([0,np.cos(rad)],[0,np.sin(rad)],'r',linewidth=3)\n",
    "    plt.axis('square')\n",
    "    plt.axis([-1,1,-1,1])\n",
    "    plt.grid()\n",
    "    plt.title('Angle is %s$^o$ or %s rad.'%(deg,rad))\n",
    "    plt.show()"
   ]
  },
  {
   "cell_type": "code",
   "execution_count": 5,
   "id": "b98aa396",
   "metadata": {},
   "outputs": [
    {
     "name": "stdout",
     "output_type": "stream",
     "text": [
      "What angle to convert?97\n",
      "Which unit did you input(radian or degree)?Degrees\n"
     ]
    },
    {
     "data": {
      "image/png": "[encoded data removed]",
      "text/plain": [
       "<Figure size 640x480 with 1 Axes>"
      ]
     },
     "metadata": {},
     "output_type": "display_data"
    }
   ],
   "source": [
    "angle_convert_plot()"
   ]
  },
  {
   "cell_type": "code",
   "execution_count": 6,
   "id": "523e8731",
   "metadata": {},
   "outputs": [],
   "source": [
    "def angle_convert_plot():\n",
    "    \n",
    "    # get the inputs from the user\n",
    "    angle = eval(input('What angle to convert?'))\n",
    "    unit = input('Which unit did you input(radian or degree)?')\n",
    "    \n",
    "    if unit[0].lower()=='r':\n",
    "        rad = angle\n",
    "        deg = np.rad2deg(angle)\n",
    "    elif unit[0].lower()=='d':\n",
    "        deg = angle\n",
    "        rad = np.deg2rad(angle)\n",
    "    else:\n",
    "        raise ValueError('Unknown unit!')\n",
    "        \n",
    "    # convert to <360\n",
    "    deg = deg%360\n",
    "    rad = rad%(2*np.pi)\n",
    "        \n",
    "    # make the graph\n",
    "    plt.plot([0,1],[0,0],'r',linewidth=2)\n",
    "    plt.plot([0,np.cos(rad)],[0,np.sin(rad)],'r',linewidth=3)\n",
    "    plt.axis('square')\n",
    "    plt.axis([-1,1,-1,1])\n",
    "    plt.grid()\n",
    "    plt.title('Angle is %s$^o$ or %s rad.'%(deg,rad))\n",
    "    plt.show()"
   ]
  },
  {
   "cell_type": "code",
   "execution_count": 7,
   "id": "f245a978",
   "metadata": {},
   "outputs": [
    {
     "name": "stdout",
     "output_type": "stream",
     "text": [
      "What angle to convert?3478256\n",
      "Which unit did you input(radian or degree)?r\n"
     ]
    },
    {
     "data": {
      "image/png": "[encoded data removed]",
      "text/plain": [
       "<Figure size 640x480 with 1 Axes>"
      ]
     },
     "metadata": {},
     "output_type": "display_data"
    }
   ],
   "source": [
    "angle_convert_plot()"
   ]
  },
  {
   "cell_type": "code",
   "execution_count": null,
   "id": "06d6a29b",
   "metadata": {},
   "outputs": [],
   "source": []
  }
 ],
 "metadata": {
  "kernelspec": {
   "display_name": "Python 3 (ipykernel)",
   "language": "python",
   "name": "python3"
  },
  "language_info": {
   "codemirror_mode": {
    "name": "ipython",
    "version": 3
   },
   "file_extension": ".py",
   "mimetype": "text/x-python",
   "name": "python",
   "nbconvert_exporter": "python",
   "pygments_lexer": "ipython3",
   "version": "3.10.9"
  }
 },
 "nbformat": 4,
 "nbformat_minor": 5
}
